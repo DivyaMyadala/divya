{
 "cells": [
  {
   "cell_type": "code",
   "execution_count": 1,
   "metadata": {},
   "outputs": [
    {
     "name": "stdout",
     "output_type": "stream",
     "text": [
      "Enter a number: 4\n",
      "The factorial of 4 is 24\n"
     ]
    }
   ],
   "source": [
    "num = int(input(\"Enter a number: \"))\n",
    "\n",
    "factorial = 1\n",
    "\n",
    "if num == 0:\n",
    "    print(\"The factorial of 0 is 1\")\n",
    "else:\n",
    "    for i in range(1, num + 1):\n",
    "        factorial = factorial * i\n",
    "    print(\"The factorial of\", num, \"is\", factorial)"
   ]
  },
  {
   "cell_type": "code",
   "execution_count": 8,
   "metadata": {},
   "outputs": [
    {
     "name": "stdout",
     "output_type": "stream",
     "text": [
      "Even numbers in the list:  8\n",
      "Odd numbers in the list:  3\n"
     ]
    }
   ],
   "source": [
    "list1=[10,33,42,0,2,60,70,85,43,66,20]\n",
    "ecount,oddcount=0,0\n",
    "for n in list1:\n",
    "    if n%2==0:\n",
    "        ecount=ecount+1\n",
    "    else:\n",
    "        oddcount=oddcount+1\n",
    "print(\"Even numbers in the list: \", ecount)\n",
    "print(\"Odd numbers in the list: \", oddcount)"
   ]
  },
  {
   "cell_type": "code",
   "execution_count": 11,
   "metadata": {},
   "outputs": [
    {
     "name": "stdout",
     "output_type": "stream",
     "text": [
      "[0 1 2 3 4]\n",
      "std:  2.0\n",
      "Mean:  1.4142135623730951\n",
      "variance:  2.0\n"
     ]
    }
   ],
   "source": [
    "import numpy as np\n",
    "arr = np.arange(5)\n",
    "print(arr)\n",
    "  \n",
    "M= np.mean(arr)\n",
    "  \n",
    "S = np.std(arr)\n",
    "  \n",
    "V = np.var(arr)\n",
    "\n",
    "print(\"std: \", M)\n",
    "print(\"Mean: \", S)\n",
    "print(\"variance: \", V)"
   ]
  },
  {
   "cell_type": "code",
   "execution_count": 13,
   "metadata": {},
   "outputs": [
    {
     "name": "stdout",
     "output_type": "stream",
     "text": [
      "enter the string:marram\n",
      "Yes\n"
     ]
    }
   ],
   "source": [
    "def isPalindrome(str):\n",
    "    for i in range(0, int(len(str)/2)):\n",
    "        if str[i] != str[len(str)-i-1]:\n",
    "            return False\n",
    "    return True\n",
    " \n",
    "\n",
    "s =input(\"enter the string:\")\n",
    "ans = isPalindrome(s)\n",
    " \n",
    "if (ans):\n",
    "    print(\"Yes\")\n",
    "else:\n",
    "    print(\"No\")"
   ]
  },
  {
   "cell_type": "code",
   "execution_count": 16,
   "metadata": {},
   "outputs": [
    {
     "name": "stdout",
     "output_type": "stream",
     "text": [
      "This is the number of lines in the file\n",
      "4\n"
     ]
    }
   ],
   "source": [
    "file = open(\"1.txt\",\"r\")\n",
    "Counter = 0\n",
    "  \n",
    "Content = file.read()\n",
    "CoList = Content.split(\"\\n\")\n",
    "  \n",
    "for i in CoList:\n",
    "    if i:\n",
    "        Counter += 1\n",
    "          \n",
    "print(\"This is the number of lines in the file\")\n",
    "print(Counter)"
   ]
  }
 ],
 "metadata": {
  "kernelspec": {
   "display_name": "Python 3",
   "language": "python",
   "name": "python3"
  },
  "language_info": {
   "codemirror_mode": {
    "name": "ipython",
    "version": 3
   },
   "file_extension": ".py",
   "mimetype": "text/x-python",
   "name": "python",
   "nbconvert_exporter": "python",
   "pygments_lexer": "ipython3",
   "version": "3.8.10"
  }
 },
 "nbformat": 4,
 "nbformat_minor": 5
}
